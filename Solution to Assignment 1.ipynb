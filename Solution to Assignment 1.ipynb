{
 "cells": [
  {
   "cell_type": "markdown",
   "id": "1f8a2cf8",
   "metadata": {},
   "source": [
    "## Assignment 1: Power Calendar function\n",
    "### Function \"get_hours(iso, peak_type, period)\"\n",
    "\n",
    "Description\n",
    "\n",
    "Calculates the number of hours matching specified peak type across different Independent System Operators (ISOs). It supports filtering by peak type and adjusts for holidays and weekends as applicable to each ISO's operational rules.\n",
    "\n",
    "Parameters\n",
    "- iso (str): The identifier for the ISO (e.g., 'PJM', 'NYISO', 'CAISO').\n",
    "- peak_type (str): Type of peak hours ('onpeak', 'offpeak', 'flat', '2x16h', '1x16h', '7x8').\n",
    "- period (str): The period for the calculation. Supported formats include daily (e.g., '2018-02-03'), quarterly (e.g., '2018Q2'), monthly (e.g., '2018Mar'), and annually (e.g., '2018A').\n",
    "\n",
    "Returns\n",
    "- dict: A dictionary containing:\n",
    "- iso: The ISO processed.\n",
    "- peak_type: The peak type considered.\n",
    "- startdate: The formatted start date of the period.\n",
    "- enddate: The formatted end date of the period.\n",
    "- num_hours: The number of hours that match the specified criteria.\n",
    "\n",
    "### Function \"get_nerc_holidays(start_date, end_date, tz=None)\"\n",
    "Description\n",
    "\n",
    "This function retrieves the NERC holidays for a specified date range within the United States. It adjusts holidays that fall on a Sunday to the next day (Monday), in accordance with NERC regulations. This function serves function \"get_hours(iso, peak_type, period)\" to get NERC holidays. \n",
    "\n",
    "Parameters\n",
    "- start_date (str or datetime): The starting date of the period for which to retrieve holidays.\n",
    "- end_date (str or datetime): The ending date of the period for which to retrieve holidays.\n",
    "- tz (str, optional): The timezone for each ISO to manage daylight saving setting. Default is None.\n",
    "\n",
    "Returns\n",
    "- pandas.DatetimeIndex: An index of datetime objects representing NERC holidays within the given date range, localized to the specified timezone."
   ]
  },
  {
   "cell_type": "code",
   "execution_count": 1,
   "id": "c3108708",
   "metadata": {},
   "outputs": [],
   "source": [
    "import pandas as pd\n",
    "import holidays\n",
    "import pytz\n",
    "\n",
    "def get_nerc_holidays(start_date, end_date, tz=None):\n",
    "    # Format start_date and end_date to datetime\n",
    "    start_date = pd.to_datetime(start_date).tz_localize(tz)\n",
    "    end_date = pd.to_datetime(end_date).tz_localize(tz)\n",
    "\n",
    "    # Create an object for U.S. public holidays\n",
    "    us_holidays = holidays.US(years=range(start_date.year, end_date.year + 1))\n",
    "\n",
    "    # Define NERC holidays based on fixed and observed holidays\n",
    "    nerc_holiday_names = {\n",
    "        \"New Year's Day\",\n",
    "        \"Memorial Day\",\n",
    "        \"Independence Day\",\n",
    "        \"Labor Day\",\n",
    "        \"Thanksgiving\",\n",
    "        \"Christmas Day\"\n",
    "    }\n",
    "\n",
    "    adjusted_holidays = {}\n",
    "    # Adjust holidays that fall on Sunday to the next day \n",
    "    # e.g #2023 New York Day on 2023/1/2; 2022 Chrismas on 12/26/2022\n",
    "    for date, name in us_holidays.items():\n",
    "        if name in nerc_holiday_names:\n",
    "            current_date = pd.Timestamp(date)\n",
    "            # Check if the holiday falls on a Sunday\n",
    "            if current_date.weekday() == 6:  # Sunday\n",
    "                # Shift to the next day (Monday)\n",
    "                observed_date = current_date + pd.Timedelta(days=1)\n",
    "                adjusted_holidays[observed_date] = name\n",
    "            else:\n",
    "                adjusted_holidays[current_date] = name\n",
    "\n",
    "    # Filter out the holidays within the given date range\n",
    "    holiday_dates = [\n",
    "        pd.Timestamp(date).tz_localize(None).tz_localize(tz) \n",
    "        for date, name in adjusted_holidays.items()\n",
    "        if name in nerc_holiday_names\n",
    "    ]\n",
    "    holiday_dates = [\n",
    "        date for date in holiday_dates if date >= start_date and date <= end_date\n",
    "    ]\n",
    "\n",
    "    return pd.DatetimeIndex(holiday_dates)\n"
   ]
  },
  {
   "cell_type": "code",
   "execution_count": 2,
   "id": "5b9e887e",
   "metadata": {},
   "outputs": [],
   "source": [
    "def get_hours(iso, peak_type, period):\n",
    "  \n",
    "    if '-' in period:\n",
    "        # Daily format(e.g.\"2018-02-03\")\n",
    "        start_date = pd.to_datetime(period)\n",
    "        end_date = start_date\n",
    "    elif 'Q' in period:\n",
    "        # Quarterly format(e.g., \"2018Q2\")\n",
    "        start_date = pd.Period(period, freq='Q').start_time\n",
    "        end_date = pd.Period(period, freq='Q').end_time\n",
    "    elif len(period) == 7:\n",
    "        # Monthly format(e.g., \"2018Mar\")\n",
    "        start_date = pd.to_datetime(period, format='%Y%b')\n",
    "        end_date = start_date + pd.offsets.MonthEnd(1)\n",
    "    elif period.endswith('A'):\n",
    "        # Annually format(e.g., \"2018A\")\n",
    "        year = pd.to_datetime(period[:-1] + '-01-01')\n",
    "        start_date = year\n",
    "        end_date = start_date + pd.offsets.YearEnd(1)\n",
    "\n",
    "    # Generate range of dates depend on different iso\n",
    "    if  iso.upper() == 'PJM' or iso == 'NYISO': \n",
    "        # PJM and NYISO use US Eastern Time year round\n",
    "        all_dates = pd.date_range(start=start_date, \n",
    "                                  end=end_date + pd.Timedelta(days=1), \n",
    "                                  freq='H',tz = pytz.timezone('US/Eastern'))\n",
    "        holidays = get_nerc_holidays(start_date, end_date, tz='US/Eastern')\n",
    "  \n",
    "    elif iso.upper() == 'SPP' or iso.upper() == 'ERCOT': \n",
    "        #SPP and ERCOT use US Central Standard\n",
    "        all_dates = pd.date_range(start=start_date, end=end_date + pd.Timedelta(days=1), \n",
    "                                  freq='H',tz=pytz.timezone('US/Central'))\n",
    "        holidays = get_nerc_holidays(start_date, end_date, tz='US/Central')\n",
    "        \n",
    "        \n",
    "    elif iso.upper() ==  'CAISO' or iso.upper() == 'WECC':\n",
    "        all_dates = pd.date_range(start=start_date, \n",
    "                                  end=end_date + pd.Timedelta(days=1), \n",
    "                                  freq='H',tz=pytz.timezone('US/Pacific'))\n",
    "        holidays = get_nerc_holidays(start_date, end_date, tz='US/Pacific')\n",
    "        \n",
    "    elif iso.upper() == 'MISO': # MISO does not have the daylight-saving setting\n",
    "        all_dates = pd.date_range(start=start_date, \n",
    "                                  end=end_date + pd.Timedelta(days=1), freq='H')\n",
    "        holidays = get_nerc_holidays(start_date, end_date)\n",
    "\n",
    "\n",
    "    if 'Q' in period:\n",
    "        all_dates = all_dates[:-24]\n",
    "    else:\n",
    "        all_dates = all_dates[:-1]\n",
    "\n",
    "\n",
    "    if peak_type.lower() == \"onpeak\":   # non-NERC holiday weekday from HE7 to HE22\n",
    "        if iso.upper() ==  'CAISO' or iso.upper() == 'WECC': \n",
    "            # Heavy load for CAISO and WECCHE7 to HE22 from Monday to Saturday\n",
    "            peakdays = all_dates[(all_dates.weekday < 6)  & ~(all_dates.normalize().isin(holidays))] \n",
    "\n",
    "        else:  # HE7 to HE22 from Monday to Friday\n",
    "            peakdays = all_dates[(all_dates.weekday < 5)  & ~(all_dates.normalize().isin(holidays))]  \n",
    "        valid_hours = range(6, 22)     # (HE7 to HE22) \n",
    "        valid_dates = peakdays[peakdays.hour.isin(valid_hours)]\n",
    "   \n",
    "    elif peak_type.lower() == \"flat\": # HE1 to HE24 every day\n",
    "        valid_dates = all_dates\n",
    "        \n",
    "    elif peak_type.lower() == \"offpeak\":   # flat hour - peak hour\n",
    "        if iso.upper() ==  'CAISO' or iso.upper() == 'WECC':\n",
    "            peakdays = all_dates[(all_dates.weekday < 6)  & ~(all_dates.normalize().isin(holidays))] \n",
    "\n",
    "        else:\n",
    "            peakdays = all_dates[(all_dates.weekday < 5)  & ~(all_dates.normalize().isin(holidays))]  \n",
    "        peak_dates = peakdays[peakdays.hour.isin(range(6, 22))]\n",
    "        valid_dates = all_dates[~(all_dates.isin(peak_dates))]\n",
    "        \n",
    "        \n",
    "    elif peak_type.lower() == \"2x16h\":    # HE7 to HE22 for the weekend and the NERC holiday\n",
    "        \n",
    "        valid_days = all_dates[(all_dates.weekday >= 5) | (all_dates.normalize().isin(holidays))] \n",
    "        # weekend and holidays\n",
    "        valid_hours = range(6, 22)\n",
    "        valid_dates = valid_days[valid_days.hour.isin(valid_hours)]\n",
    "   \n",
    "    elif peak_type.lower() == \"1x16h\":    # CAISO and WECC has 1x16H instead  \n",
    "        valid_days = all_dates[(all_dates.weekday > 5) | (all_dates.normalize().isin(holidays))]\n",
    "        valid_hours = range(6, 22)\n",
    "        valid_dates = valid_days[valid_days.hour.isin(valid_hours)]\n",
    "        \n",
    "    \n",
    "    elif peak_type.lower() == \"7x8\":   # Non HE7 to HE22 through the week\n",
    "        valid_days = all_dates\n",
    "        valid_hours = list(range(0, 6)) + [22, 23]\n",
    "        valid_dates = valid_days[valid_days.hour.isin(valid_hours)]\n",
    "        \n",
    "    \n",
    "    # Count the valid hours\n",
    "    num_hours = len(valid_dates)\n",
    "    \n",
    "    res = {\n",
    "        'iso': iso.upper(),\n",
    "        'peak_type': peak_type.upper(),\n",
    "        'startdate': start_date.strftime('%Y-%m-%d'),\n",
    "        'enddate': end_date.strftime('%Y-%m-%d'),\n",
    "        'num_hours': num_hours\n",
    "    }\n",
    "    return res\n",
    "    "
   ]
  },
  {
   "cell_type": "markdown",
   "id": "482ade7f",
   "metadata": {},
   "source": [
    "### Test the function\n",
    "\n",
    "This code tests the get_hours function across various ISOs for November 2023. \n",
    "\n",
    "- PJM and ERCOT: Both ISOs report 336 onpeak hours and 386 offpeak hours. The additional offpeak hour is attributed to the end of daylight saving time, which adds an extra hour in November.\n",
    "\n",
    "- MISO: Shows 385 offpeak hours. Unlike PJM and ERCOT, MISO operates on standard time year-round and does not adjust for daylight savings. \n",
    "\n",
    "- WECC and CAISO: These ISOs both have 400 onpeak and 322 offpeak hours. The higher number of onpeak hours results from their specific peak hour settings: HE7 to HE22 from Monday to Saturday, excluding NERC holidays. This is broader than other ISOs, which typically count HE7 to HE22 from Monday to Friday, excluding NERC holidays.\n",
    "\n"
   ]
  },
  {
   "cell_type": "code",
   "execution_count": 3,
   "id": "6ce8e3a3",
   "metadata": {},
   "outputs": [
    {
     "name": "stdout",
     "output_type": "stream",
     "text": [
      "PJM\n",
      "{'iso': 'PJM', 'peak_type': 'ONPEAK', 'startdate': '2023-11-01', 'enddate': '2023-11-30', 'num_hours': 336}\n",
      "{'iso': 'PJM', 'peak_type': 'OFFPEAK', 'startdate': '2023-11-01', 'enddate': '2023-11-30', 'num_hours': 385}\n",
      "------------------------------------------------------------------------------------\n",
      "MISO\n",
      "{'iso': 'MISO', 'peak_type': 'ONPEAK', 'startdate': '2023-11-01', 'enddate': '2023-11-30', 'num_hours': 336}\n",
      "{'iso': 'MISO', 'peak_type': 'OFFPEAK', 'startdate': '2023-11-01', 'enddate': '2023-11-30', 'num_hours': 384}\n",
      "------------------------------------------------------------------------------------\n",
      "ERCOT\n",
      "{'iso': 'ERCOT', 'peak_type': 'ONPEAK', 'startdate': '2023-11-01', 'enddate': '2023-11-30', 'num_hours': 336}\n",
      "{'iso': 'ERCOT', 'peak_type': 'OFFPEAK', 'startdate': '2023-11-01', 'enddate': '2023-11-30', 'num_hours': 385}\n",
      "------------------------------------------------------------------------------------\n",
      "WECC\n",
      "{'iso': 'WECC', 'peak_type': 'ONPEAK', 'startdate': '2023-11-01', 'enddate': '2023-11-30', 'num_hours': 400}\n",
      "{'iso': 'WECC', 'peak_type': 'OFFPEAK', 'startdate': '2023-11-01', 'enddate': '2023-11-30', 'num_hours': 321}\n",
      "------------------------------------------------------------------------------------\n",
      "CAISO\n",
      "{'iso': 'CAISO', 'peak_type': 'ONPEAK', 'startdate': '2023-11-01', 'enddate': '2023-11-30', 'num_hours': 400}\n",
      "{'iso': 'CAISO', 'peak_type': 'OFFPEAK', 'startdate': '2023-11-01', 'enddate': '2023-11-30', 'num_hours': 321}\n",
      "------------------------------------------------------------------------------------\n"
     ]
    }
   ],
   "source": [
    "#test the function, use 2023 Nov to see if the daylight saving setting works\n",
    "iso_list = ['PJM', 'MISO', 'ERCOT', 'WECC', 'CAISO']\n",
    "peak_type_list = ['onpeak','offpeak']\n",
    "for iso in iso_list:\n",
    "    print(iso)\n",
    "    for peak_type in peak_type_list:\n",
    "        res = get_hours(iso, peak_type, '2023Nov')\n",
    "        print(res)\n",
    "    print(\"------------------------------------------------------------------------------------\")"
   ]
  },
  {
   "cell_type": "markdown",
   "id": "7152cced",
   "metadata": {},
   "source": [
    "This following code tests the the get_hours function for different ISOs over the fourth quarter of 2023 (October to December).\n",
    "\n",
    "- PJM and ERCOT: Both ISOs report 1008 onpeak hours and 1201 offpeak hours for the quarter. The additional offpeak hours arise due to the end of daylight saving time in November. \n",
    "\n",
    "- MISO: Reflects 1008 onpeak and 1200 offpeak hours. The slight difference in offpeak hours compared to PJM and ERCOT (1201 vs. 1200) is because MISO does not observe daylight saving changes. \n",
    "\n",
    "- WECC and CAISO: Both ISOs show 1216 onpeak and 993 offpeak hours. The increased onpeak hours result from their extended peak hours definition, which includes HE7 to HE22 from Monday to Saturday, excluding NERC holidays. This broader definition of peak hours in WECC and CAISO results in fewer offpeak hours compared to other ISOs that typically observe peak hours from Monday to Friday."
   ]
  },
  {
   "cell_type": "code",
   "execution_count": 4,
   "id": "0a64847f",
   "metadata": {},
   "outputs": [
    {
     "name": "stdout",
     "output_type": "stream",
     "text": [
      "PJM\n",
      "{'iso': 'PJM', 'peak_type': 'ONPEAK', 'startdate': '2023-10-01', 'enddate': '2023-12-31', 'num_hours': 1008}\n",
      "{'iso': 'PJM', 'peak_type': 'OFFPEAK', 'startdate': '2023-10-01', 'enddate': '2023-12-31', 'num_hours': 1201}\n",
      "-------------------------------------------------------------------------------------\n",
      "MISO\n",
      "{'iso': 'MISO', 'peak_type': 'ONPEAK', 'startdate': '2023-10-01', 'enddate': '2023-12-31', 'num_hours': 1008}\n",
      "{'iso': 'MISO', 'peak_type': 'OFFPEAK', 'startdate': '2023-10-01', 'enddate': '2023-12-31', 'num_hours': 1200}\n",
      "-------------------------------------------------------------------------------------\n",
      "ERCOT\n",
      "{'iso': 'ERCOT', 'peak_type': 'ONPEAK', 'startdate': '2023-10-01', 'enddate': '2023-12-31', 'num_hours': 1008}\n",
      "{'iso': 'ERCOT', 'peak_type': 'OFFPEAK', 'startdate': '2023-10-01', 'enddate': '2023-12-31', 'num_hours': 1201}\n",
      "-------------------------------------------------------------------------------------\n",
      "WECC\n",
      "{'iso': 'WECC', 'peak_type': 'ONPEAK', 'startdate': '2023-10-01', 'enddate': '2023-12-31', 'num_hours': 1216}\n",
      "{'iso': 'WECC', 'peak_type': 'OFFPEAK', 'startdate': '2023-10-01', 'enddate': '2023-12-31', 'num_hours': 993}\n",
      "-------------------------------------------------------------------------------------\n",
      "CAISO\n",
      "{'iso': 'CAISO', 'peak_type': 'ONPEAK', 'startdate': '2023-10-01', 'enddate': '2023-12-31', 'num_hours': 1216}\n",
      "{'iso': 'CAISO', 'peak_type': 'OFFPEAK', 'startdate': '2023-10-01', 'enddate': '2023-12-31', 'num_hours': 993}\n",
      "-------------------------------------------------------------------------------------\n"
     ]
    }
   ],
   "source": [
    "iso_list = ['PJM', 'MISO', 'ERCOT', 'WECC', 'CAISO']\n",
    "peak_type_list = ['onpeak','offpeak']\n",
    "for iso in iso_list:\n",
    "    print(iso)\n",
    "    for peak_type in peak_type_list:\n",
    "        res = get_hours(iso, peak_type, '2023Q4')\n",
    "        print(res)\n",
    "    print(\"-------------------------------------------------------------------------------------\")\n"
   ]
  },
  {
   "cell_type": "code",
   "execution_count": 5,
   "id": "b133028b",
   "metadata": {},
   "outputs": [
    {
     "name": "stdout",
     "output_type": "stream",
     "text": [
      "{'iso': 'CAISO', 'peak_type': 'ONPEAK', 'startdate': '2023-10-01', 'enddate': '2023-12-31', 'num_hours': 1216}\n",
      "{'iso': 'CAISO', 'peak_type': 'OFFPEAK', 'startdate': '2023-10-01', 'enddate': '2023-12-31', 'num_hours': 993}\n",
      "{'iso': 'CAISO', 'peak_type': '1X16H', 'startdate': '2023-10-01', 'enddate': '2023-12-31', 'num_hours': 256}\n"
     ]
    }
   ],
   "source": [
    "# The outputs of the get_hours function are the same as those shown on the given website, \n",
    "# producing accurate results as expected.\n",
    "\n",
    "peak_type_list = ['onpeak','offpeak','1X16H']\n",
    "for peak in peak_type_list:\n",
    "    \n",
    "    res = get_hours('CAISO', peak, '2023Q4')\n",
    "    print(res)\n"
   ]
  },
  {
   "cell_type": "code",
   "execution_count": 6,
   "id": "d42aadaf",
   "metadata": {},
   "outputs": [
    {
     "name": "stdout",
     "output_type": "stream",
     "text": [
      "{'iso': 'CAISO', 'peak_type': 'ONPEAK', 'startdate': '2018-01-01', 'enddate': '2018-12-31', 'num_hours': 4912}\n",
      "{'iso': 'CAISO', 'peak_type': 'ONPEAK', 'startdate': '2019-01-01', 'enddate': '2019-12-31', 'num_hours': 4912}\n",
      "{'iso': 'CAISO', 'peak_type': 'ONPEAK', 'startdate': '2020-01-01', 'enddate': '2020-12-31', 'num_hours': 4928}\n",
      "{'iso': 'CAISO', 'peak_type': 'ONPEAK', 'startdate': '2021-01-01', 'enddate': '2021-12-31', 'num_hours': 4912}\n",
      "{'iso': 'CAISO', 'peak_type': 'ONPEAK', 'startdate': '2022-01-01', 'enddate': '2022-12-31', 'num_hours': 4912}\n",
      "{'iso': 'CAISO', 'peak_type': 'ONPEAK', 'startdate': '2023-01-01', 'enddate': '2023-12-31', 'num_hours': 4896}\n"
     ]
    }
   ],
   "source": [
    "year_list = ['2018A','2019A','2020A','2021A','2022A','2023A']\n",
    "for year in year_list:\n",
    "    res = get_hours('CAISO', 'onpeak', year)\n",
    "    print(res)"
   ]
  },
  {
   "cell_type": "markdown",
   "id": "77073771",
   "metadata": {},
   "source": [
    "Test the onpeak hours for January 2, 2023, which is a NERC-recognized New Year holiday. Since the traditional New Year's Day falls on a Sunday, Monday is observed as the holiday, in accordance with NERC regulations. The expected number of onpeak hours at CAISO on January 2, 2023, should be 0."
   ]
  },
  {
   "cell_type": "code",
   "execution_count": 7,
   "id": "d8af8827",
   "metadata": {},
   "outputs": [
    {
     "name": "stdout",
     "output_type": "stream",
     "text": [
      "{'iso': 'CAISO', 'peak_type': 'ONPEAK', 'startdate': '2023-01-02', 'enddate': '2023-01-02', 'num_hours': 0}\n"
     ]
    }
   ],
   "source": [
    "\n",
    "res = get_hours('CAISO', 'onpeak', '2023-1-2')\n",
    "print(res)"
   ]
  },
  {
   "cell_type": "markdown",
   "id": "93a4d101",
   "metadata": {},
   "source": [
    "#### Note:for assignment1, I made an independent python file named power_calendar.py under the \"code\" folder"
   ]
  },
  {
   "cell_type": "code",
   "execution_count": null,
   "id": "32b52c42",
   "metadata": {},
   "outputs": [],
   "source": []
  },
  {
   "cell_type": "code",
   "execution_count": null,
   "id": "45033592",
   "metadata": {},
   "outputs": [],
   "source": []
  },
  {
   "cell_type": "code",
   "execution_count": null,
   "id": "40ad23ee",
   "metadata": {},
   "outputs": [],
   "source": []
  }
 ],
 "metadata": {
  "kernelspec": {
   "display_name": "Python 3 (ipykernel)",
   "language": "python",
   "name": "python3"
  },
  "language_info": {
   "codemirror_mode": {
    "name": "ipython",
    "version": 3
   },
   "file_extension": ".py",
   "mimetype": "text/x-python",
   "name": "python",
   "nbconvert_exporter": "python",
   "pygments_lexer": "ipython3",
   "version": "3.10.13"
  }
 },
 "nbformat": 4,
 "nbformat_minor": 5
}
